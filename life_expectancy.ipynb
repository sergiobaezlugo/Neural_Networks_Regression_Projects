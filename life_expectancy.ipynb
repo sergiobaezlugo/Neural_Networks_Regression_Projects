{
  "nbformat": 4,
  "nbformat_minor": 0,
  "metadata": {
    "colab": {
      "provenance": [],
      "authorship_tag": "ABX9TyPmZLGwdKBuDPm5C/irsYOS",
      "include_colab_link": true
    },
    "kernelspec": {
      "name": "python3",
      "display_name": "Python 3"
    },
    "language_info": {
      "name": "python"
    }
  },
  "cells": [
    {
      "cell_type": "markdown",
      "metadata": {
        "id": "view-in-github",
        "colab_type": "text"
      },
      "source": [
        "<a href=\"https://colab.research.google.com/github/sergiobaezlugo/Neural_Network_Regression/blob/main/life_expectancy.ipynb\" target=\"_parent\"><img src=\"https://colab.research.google.com/assets/colab-badge.svg\" alt=\"Open In Colab\"/></a>"
      ]
    },
    {
      "cell_type": "code",
      "execution_count": null,
      "metadata": {
        "id": "QTrgbU5tV7-r",
        "colab": {
          "base_uri": "https://localhost:8080/"
        },
        "outputId": "d1468a48-e7de-4d7f-b993-cf039b0da16c"
      },
      "outputs": [
        {
          "output_type": "stream",
          "name": "stdout",
          "text": [
            "Epoch 1/40\n",
            "2350/2350 [==============================] - 5s 2ms/step - loss: 140.9862 - mae: 6.3021\n",
            "Epoch 2/40\n",
            "2350/2350 [==============================] - 4s 2ms/step - loss: 29.5930 - mae: 3.8017\n",
            "Epoch 3/40\n",
            "2350/2350 [==============================] - 4s 2ms/step - loss: 24.2886 - mae: 3.6194\n",
            "Epoch 4/40\n",
            "2350/2350 [==============================] - 4s 2ms/step - loss: 22.6097 - mae: 3.3561\n",
            "Epoch 5/40\n",
            "2350/2350 [==============================] - 5s 2ms/step - loss: 19.8305 - mae: 3.2520\n",
            "Epoch 6/40\n",
            "2350/2350 [==============================] - 4s 2ms/step - loss: 17.3975 - mae: 3.0052\n",
            "Epoch 7/40\n",
            "2350/2350 [==============================] - 4s 2ms/step - loss: 16.2382 - mae: 2.9888\n",
            "Epoch 8/40\n",
            "2350/2350 [==============================] - 5s 2ms/step - loss: 16.6133 - mae: 2.9143\n",
            "Epoch 9/40\n",
            "2350/2350 [==============================] - 4s 2ms/step - loss: 13.4882 - mae: 2.6945\n",
            "Epoch 10/40\n",
            "2350/2350 [==============================] - 4s 2ms/step - loss: 13.8687 - mae: 2.7073\n",
            "Epoch 11/40\n",
            "2350/2350 [==============================] - 5s 2ms/step - loss: 12.5770 - mae: 2.6645\n",
            "Epoch 12/40\n",
            "2350/2350 [==============================] - 4s 2ms/step - loss: 12.3828 - mae: 2.6142\n",
            "Epoch 13/40\n",
            "2350/2350 [==============================] - 4s 2ms/step - loss: 11.9203 - mae: 2.5527\n",
            "Epoch 14/40\n",
            "2350/2350 [==============================] - 4s 2ms/step - loss: 12.6390 - mae: 2.6349\n",
            "Epoch 15/40\n",
            "2350/2350 [==============================] - 4s 2ms/step - loss: 11.2007 - mae: 2.4877\n",
            "Epoch 16/40\n",
            "2350/2350 [==============================] - 4s 2ms/step - loss: 11.0146 - mae: 2.4468\n",
            "Epoch 17/40\n",
            "2350/2350 [==============================] - 4s 2ms/step - loss: 11.7302 - mae: 2.4576\n",
            "Epoch 18/40\n",
            "2350/2350 [==============================] - 4s 2ms/step - loss: 10.6853 - mae: 2.3995\n",
            "Epoch 19/40\n",
            "2350/2350 [==============================] - 4s 2ms/step - loss: 9.8071 - mae: 2.3716\n",
            "Epoch 20/40\n",
            "2350/2350 [==============================] - 4s 2ms/step - loss: 9.9022 - mae: 2.3144\n",
            "Epoch 21/40\n",
            "2350/2350 [==============================] - 5s 2ms/step - loss: 10.1129 - mae: 2.3469\n",
            "Epoch 22/40\n",
            "2350/2350 [==============================] - 4s 2ms/step - loss: 9.8918 - mae: 2.3364\n",
            "Epoch 23/40\n",
            "2350/2350 [==============================] - 4s 2ms/step - loss: 10.8324 - mae: 2.4266\n",
            "Epoch 24/40\n",
            "2350/2350 [==============================] - 5s 2ms/step - loss: 9.2863 - mae: 2.2757\n",
            "Epoch 25/40\n",
            "2350/2350 [==============================] - 4s 2ms/step - loss: 9.0590 - mae: 2.2526\n",
            "Epoch 26/40\n",
            "2350/2350 [==============================] - 4s 2ms/step - loss: 9.4527 - mae: 2.2549\n",
            "Epoch 27/40\n",
            "2350/2350 [==============================] - 5s 2ms/step - loss: 9.3556 - mae: 2.2378\n",
            "Epoch 28/40\n",
            "2350/2350 [==============================] - 4s 2ms/step - loss: 9.4972 - mae: 2.2737\n",
            "Epoch 29/40\n",
            "2350/2350 [==============================] - 4s 2ms/step - loss: 9.2078 - mae: 2.2799\n",
            "Epoch 30/40\n",
            "2350/2350 [==============================] - 5s 2ms/step - loss: 8.9216 - mae: 2.2437\n",
            "Epoch 31/40\n",
            "2350/2350 [==============================] - 4s 2ms/step - loss: 9.6192 - mae: 2.2949\n",
            "Epoch 32/40\n",
            "2350/2350 [==============================] - 4s 2ms/step - loss: 8.9761 - mae: 2.2155\n",
            "Epoch 33/40\n",
            "2350/2350 [==============================] - 4s 2ms/step - loss: 8.7559 - mae: 2.1874\n",
            "Epoch 34/40\n",
            "2350/2350 [==============================] - 4s 2ms/step - loss: 8.7209 - mae: 2.2144\n",
            "Epoch 35/40\n",
            "2350/2350 [==============================] - 4s 2ms/step - loss: 8.5045 - mae: 2.1671\n",
            "Epoch 36/40\n",
            "2350/2350 [==============================] - 4s 2ms/step - loss: 8.3033 - mae: 2.1449\n",
            "Epoch 37/40\n",
            "2350/2350 [==============================] - 5s 2ms/step - loss: 8.2504 - mae: 2.1301\n",
            "Epoch 38/40\n",
            "2350/2350 [==============================] - 4s 2ms/step - loss: 8.2777 - mae: 2.1558\n",
            "Epoch 39/40\n",
            "2350/2350 [==============================] - 4s 2ms/step - loss: 8.0944 - mae: 2.1113\n",
            "Epoch 40/40\n",
            "2350/2350 [==============================] - 5s 2ms/step - loss: 7.9991 - mae: 2.1125\n",
            "Model: \"sequential_1\"\n",
            "_________________________________________________________________\n",
            " Layer (type)                Output Shape              Param #   \n",
            "=================================================================\n",
            " dense_2 (Dense)             (None, 64)                1408      \n",
            "                                                                 \n",
            " dense_3 (Dense)             (None, 1)                 65        \n",
            "                                                                 \n",
            "=================================================================\n",
            "Total params: 1473 (5.75 KB)\n",
            "Trainable params: 1473 (5.75 KB)\n",
            "Non-trainable params: 0 (0.00 Byte)\n",
            "_________________________________________________________________\n",
            "None\n"
          ]
        }
      ],
      "source": [
        "import pandas as pd\n",
        "\n",
        "url = 'https://raw.githubusercontent.com/sergiobaezlugo/Neural_Network_Regression/main/life_expectancy.csv'\n",
        "\n",
        "dataset = pd.read_csv(url)\n",
        "\n",
        "dataset = dataset.drop(['Country'], axis = 1)\n",
        "\n",
        "labels = dataset['Life expectancy']\n",
        "features = dataset.drop(['Life expectancy'], axis=1)\n",
        "\n",
        "features = pd.get_dummies(features)\n",
        "\n",
        "from sklearn.model_selection import train_test_split\n",
        "\n",
        "features_train, features_test, labels_train, labels_test = train_test_split(features, labels, test_size = 0.20, random_state=23)\n",
        "\n",
        "from sklearn.preprocessing import StandardScaler\n",
        "from sklearn.preprocessing import Normalizer\n",
        "from sklearn.compose import ColumnTransformer\n",
        "\n",
        "numerical_features = features.select_dtypes(include=['float64', 'int64'])\n",
        "\n",
        "numerical_columns = numerical_features.columns\n",
        "\n",
        "ct = ColumnTransformer([(\"only numeric\", StandardScaler(), numerical_columns)], remainder='passthrough')\n",
        "\n",
        "features_train_scaled = ct.fit_transform(features_train)\n",
        "\n",
        "features_test = ct.transform(features_test)\n",
        "\n",
        "from tensorflow.keras.models import Sequential\n",
        "\n",
        "my_model = Sequential()\n",
        "\n",
        "from tensorflow.keras.layers import InputLayer\n",
        "\n",
        "input = InputLayer(input_shape = (features.shape[1], ))\n",
        "\n",
        "my_model.add(input)\n",
        "\n",
        "from tensorflow.keras.layers import Dense\n",
        "my_model.add(Dense(64, activation = \"relu\"))\n",
        "my_model.add(Dense(1))\n",
        "\n",
        "from tensorflow.keras.optimizers import Adam\n",
        "opt = Adam(learning_rate = 0.01)\n",
        "\n",
        "my_model.compile(loss = 'mse', metrics = ['mae'], optimizer = opt)\n",
        "\n",
        "my_model.fit(features_train_scaled, labels_train, epochs = 40, batch_size = 1, verbose = 1)\n",
        "\n",
        "res_mse, res_mae = my_model.evaluate(features_test, labels_test, verbose = 0)\n",
        "print(my_model.summary())"
      ]
    },
    {
      "cell_type": "code",
      "execution_count": null,
      "metadata": {
        "id": "r-exJtdG3XwJ"
      },
      "outputs": [],
      "source": []
    },
    {
      "cell_type": "code",
      "source": [
        "pwd"
      ],
      "metadata": {
        "colab": {
          "base_uri": "https://localhost:8080/",
          "height": 36
        },
        "id": "uiQxVpIseO9E",
        "outputId": "51c1760b-8f7a-4bd7-c774-ae5d7cd039d1"
      },
      "execution_count": null,
      "outputs": [
        {
          "output_type": "execute_result",
          "data": {
            "text/plain": [
              "'/content'"
            ],
            "application/vnd.google.colaboratory.intrinsic+json": {
              "type": "string"
            }
          },
          "metadata": {},
          "execution_count": 11
        }
      ]
    }
  ]
}